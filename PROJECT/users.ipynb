{
 "cells": [
  {
   "cell_type": "code",
   "execution_count": 3,
   "id": "889bc191",
   "metadata": {},
   "outputs": [],
   "source": [
    "def login():\n",
    "    print(\"******Login Page*******\")\n",
    "    print(\"1. NEW USER\")\n",
    "    print(\"2. EXISTING USER\")\n",
    "    ch = int(input(\"ENTER YOUR CHOICE-->>\"))\n",
    "\n",
    "    if ch == 1:\n",
    "        name = input(\"ENTER YOUR NAME----->\")\n",
    "        pwd = input(\"ENTER A PASSWORD----->\")\n",
    "\n",
    "        # Check password strength\n",
    "        if len(pwd) >= 8:\n",
    "            lower = sum(1 for i in pwd if i.islower())\n",
    "            upper = sum(1 for i in pwd if i.isupper())\n",
    "            special = sum(1 for i in pwd if i in \"_$@\")\n",
    "            digit = sum(1 for i in pwd if i.isdigit())\n",
    "\n",
    "            if lower >= 1 and upper >= 1 and special >= 1 and digit >= 1:\n",
    "                print(\"!ACCOUNT CREATED!\")\n",
    "                with open('users.txt', 'a') as f:\n",
    "                    f.write(f\"{name},{pwd}\\n\")\n",
    "            else:\n",
    "                print(\"!INVALID PASSWORD!\")\n",
    "                print(\"Password must be at least 8 characters long, with at least one digit, one lowercase, one uppercase, and one special character (_ $ @).\")\n",
    "        else:\n",
    "            print(\"!INVALID PASSWORD!\")\n",
    "            print(\"Password must be at least 8 characters long.\")\n",
    "            \n",
    "    elif ch == 2:\n",
    "        n = input(\"ENTER YOUR NAME----->\")\n",
    "        pas = input(\"ENTER YOUR PASSWORD----->\")\n",
    "        \n",
    "        # Check if user exists\n",
    "        with open(\"users.txt\", \"r\") as file:\n",
    "            users = file.readlines()\n",
    "            found = False\n",
    "            for user in users:\n",
    "                name, password = user.strip().split(\",\")\n",
    "                if n == name and pas == password:\n",
    "                    found = True\n",
    "                    print(\"!LOGGED IN!\")\n",
    "                    break\n",
    "            \n",
    "            if not found:\n",
    "                print(\"!INVALID USERNAME OR PASSWORD!\")\n",
    "    else:\n",
    "        print(\"!INVALID CHOICE!\")\n"
   ]
  },
  {
   "cell_type": "code",
   "execution_count": null,
   "id": "68697e9f",
   "metadata": {},
   "outputs": [],
   "source": []
  }
 ],
 "metadata": {
  "kernelspec": {
   "display_name": "Python 3",
   "language": "python",
   "name": "python3"
  },
  "language_info": {
   "codemirror_mode": {
    "name": "ipython",
    "version": 3
   },
   "file_extension": ".py",
   "mimetype": "text/x-python",
   "name": "python",
   "nbconvert_exporter": "python",
   "pygments_lexer": "ipython3",
   "version": "3.12.4"
  }
 },
 "nbformat": 4,
 "nbformat_minor": 5
}
