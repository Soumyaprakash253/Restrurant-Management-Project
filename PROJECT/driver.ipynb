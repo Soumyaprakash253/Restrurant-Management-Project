{
 "cells": [
  {
   "cell_type": "code",
   "execution_count": 13,
   "id": "3ab8c5cb",
   "metadata": {},
   "outputs": [
    {
     "name": "stdout",
     "output_type": "stream",
     "text": [
      "**WELCOME**\n",
      "1:Customer\n",
      "2:Restaurant\n",
      "##################################################\n",
      "******Login Page*******\n",
      "1. NEW USER \n",
      "2. EXISTING USER \n",
      "!INVALID!\n",
      "################\n"
     ]
    }
   ],
   "source": [
    "print(\"**WELCOME**\")\n",
    "print(\"1:Customer\")\n",
    "print(\"2:Restaurant\")\n",
    "ch=int(input(\"Enter ur choice 1/2:\"))\n",
    "print(\"#\"*50)\n",
    "import users\n",
    "if ch==1:\n",
    "    users.login()\n",
    "elif ch==2:\n",
    "    pass\n",
    "else:\n",
    "    print('invalid output')\n",
    "print('#'*16)"
   ]
  },
  {
   "cell_type": "code",
   "execution_count": null,
   "id": "2fb8974c",
   "metadata": {},
   "outputs": [],
   "source": []
  },
  {
   "cell_type": "code",
   "execution_count": null,
   "id": "c6a7f9b7",
   "metadata": {},
   "outputs": [],
   "source": []
  }
 ],
 "metadata": {
  "kernelspec": {
   "display_name": "Python 3",
   "language": "python",
   "name": "python3"
  },
  "language_info": {
   "codemirror_mode": {
    "name": "ipython",
    "version": 3
   },
   "file_extension": ".py",
   "mimetype": "text/x-python",
   "name": "python",
   "nbconvert_exporter": "python",
   "pygments_lexer": "ipython3",
   "version": "3.12.4"
  }
 },
 "nbformat": 4,
 "nbformat_minor": 5
}
